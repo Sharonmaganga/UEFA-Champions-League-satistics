{
 "cells": [
  {
   "cell_type": "code",
   "execution_count": 1,
   "metadata": {
    "_cell_guid": "b1076dfc-b9ad-4769-8c92-a6c4dae69d19",
    "_uuid": "8f2839f25d086af736a60e9eeb907d3b93b6e0e5",
    "execution": {
     "iopub.execute_input": "2022-07-22T23:08:20.968472Z",
     "iopub.status.busy": "2022-07-22T23:08:20.967446Z",
     "iopub.status.idle": "2022-07-22T23:08:20.982293Z",
     "shell.execute_reply": "2022-07-22T23:08:20.981588Z",
     "shell.execute_reply.started": "2022-07-22T23:07:36.292794Z"
    },
    "papermill": {
     "duration": 0.039177,
     "end_time": "2022-07-22T23:08:20.982573",
     "exception": false,
     "start_time": "2022-07-22T23:08:20.943396",
     "status": "completed"
    },
    "tags": []
   },
   "outputs": [
    {
     "name": "stdout",
     "output_type": "stream",
     "text": [
      "/kaggle/input/champions-league-era-stats/PlayerAppearDetails.csv\n",
      "/kaggle/input/champions-league-era-stats/AllTimeRankingByClub.csv\n",
      "/kaggle/input/champions-league-era-stats/TopGoalScorer.csv\n",
      "/kaggle/input/champions-league-era-stats/PlayerGoalTotals.csv\n",
      "/kaggle/input/champions-league-era-stats/PlayerGoalDetails.csv\n",
      "/kaggle/input/champions-league-era-stats/CoachesAppearTotals.csv\n",
      "/kaggle/input/champions-league-era-stats/CoachesAppearDetails.csv\n",
      "/kaggle/input/champions-league-era-stats/GoalStatsPerGroupRound.csv\n",
      "/kaggle/input/champions-league-era-stats/AllTimeRankingByCountry.csv\n",
      "/kaggle/input/champions-league-era-stats/PlayerAppearTotals.csv\n"
     ]
    }
   ],
   "source": [
    "# This Python 3 environment comes with many helpful analytics libraries installed\n",
    "# It is defined by the kaggle/python Docker image: https://github.com/kaggle/docker-python\n",
    "# For example, here's several helpful packages to load\n",
    "\n",
    "import numpy as np # linear algebra\n",
    "import pandas as pd # data processing, CSV file I/O (e.g. pd.read_csv)\n",
    "import matplotlib.pyplot as plt\n",
    "\n",
    "# Input data files are available in the read-only \"../input/\" directory\n",
    "# For example, running this (by clicking run or pressing Shift+Enter) will list all files under the input directory\n",
    "\n",
    "import os\n",
    "for dirname, _, filenames in os.walk('/kaggle/input'):\n",
    "    for filename in filenames:\n",
    "        print(os.path.join(dirname, filename))\n",
    "\n",
    "# You can write up to 20GB to the current directory (/kaggle/working/) that gets preserved as output when you create a version using \"Save & Run All\" \n",
    "# You can also write temporary files to /kaggle/temp/, but they won't be saved outside of the current session"
   ]
  },
  {
   "cell_type": "code",
   "execution_count": 2,
   "metadata": {
    "execution": {
     "iopub.execute_input": "2022-07-22T23:08:21.028050Z",
     "iopub.status.busy": "2022-07-22T23:08:21.027243Z",
     "iopub.status.idle": "2022-07-22T23:08:21.030252Z",
     "shell.execute_reply": "2022-07-22T23:08:21.029731Z",
     "shell.execute_reply.started": "2022-07-22T23:07:36.314165Z"
    },
    "papermill": {
     "duration": 0.027179,
     "end_time": "2022-07-22T23:08:21.030388",
     "exception": false,
     "start_time": "2022-07-22T23:08:21.003209",
     "status": "completed"
    },
    "tags": []
   },
   "outputs": [],
   "source": [
    "PATH = \"/kaggle/input/champions-league-era-stats\""
   ]
  },
  {
   "cell_type": "markdown",
   "metadata": {
    "papermill": {
     "duration": 0.019622,
     "end_time": "2022-07-22T23:08:21.069643",
     "exception": false,
     "start_time": "2022-07-22T23:08:21.050021",
     "status": "completed"
    },
    "tags": []
   },
   "source": [
    "# The country with the most clubs to participate in the Champions League\n",
    "Lets analyze the AllTimeRankingByClub which is the more detailed file.  The All Time RankingByCountry is the summary file which removes the club names and just adds up  the numbers per country.\n",
    "\n",
    "You can use this dictionary if you'd like to convert between the country code and country name:"
   ]
  },
  {
   "cell_type": "code",
   "execution_count": 3,
   "metadata": {
    "execution": {
     "iopub.execute_input": "2022-07-22T23:08:21.118069Z",
     "iopub.status.busy": "2022-07-22T23:08:21.117370Z",
     "iopub.status.idle": "2022-07-22T23:08:21.119563Z",
     "shell.execute_reply": "2022-07-22T23:08:21.120164Z",
     "shell.execute_reply.started": "2022-07-22T23:07:36.337579Z"
    },
    "papermill": {
     "duration": 0.030947,
     "end_time": "2022-07-22T23:08:21.120326",
     "exception": false,
     "start_time": "2022-07-22T23:08:21.089379",
     "status": "completed"
    },
    "tags": []
   },
   "outputs": [],
   "source": [
    "country_dict = { \"ESP\": \"Spain\", \"ENG\": \"England\", \"ITA\" :\"Italy\", \"GER\":\"Germany\", \"POR\": \"Portugal\",\n",
    "               \"FRA\":\"France\", \"NED\":\"Netherlands\", \"POL\":\"Poland\", \"ROU\":\"Romania\", \"RUS\":\"Russia\", \n",
    "               \"AUT\":\"Austria\", \"SCO\":\"Scotland\", \"SRB\":\"Serbia\", \"SUI\":\"Switzerland\", \"SVK\":\"Slovakia\",\n",
    "               \"SVN\":\"SLovenia\", \"TUR\":\"Turkey\", \"NOR\":\"Norway\", \"ISR\":\"Israel\", \"KAZ\":\"Kazakhstan\", \n",
    "               \"AZE\":\"Azerbaijan\", \"HUN\":\"Hungary\", \"GRE\":\"Greece\", \"FIN\":\"Finland\", \"DEN\":\"Denmark\", \n",
    "                \"SWE\":\"Swedend\", \"CZE\":\"Czech Republic\", \"CYP\":\"Cyprus\", \"CRO\": \"Croatia\", \"BUL\":\"Bulgaria\", \n",
    "                \"BLR\":\"Belarus\", \"BEL\":\"Belguim\", \"UKR\":\"Ukraine\", \"MDA\" :\"Moldova\", \"IRL\":\"Ireland\", \n",
    "                \"ALB\":\"Albania\" , \"MLT\":\"Malta\", \"LVA\":\"Latvia\", \"NIR\":\"Northern Ireland\", \"LTU\":\"Lithuania\", \n",
    "               \"GEO\":\"Georgia\", \"ISL\":\"Iceland\", \"ARM\":\"Armenia\", \"BIH\":\"Bosnia and Herzegovina\",\n",
    "               \"LUX\":\"Luxemborg\", \"MKD\":\"North Macedonia\", \"EST\":\"Estonia\", \"WAL\":\"Wales\", \"FRO\":\"Faroe Island\",\n",
    "               \"MNE\":\"Montegro\", \"KOS\":\"Kosovo\", \"GIB\":\"Gibraltar\", \"AND\":\"Andorra\", \"SMR\":\"San Marino\"}"
   ]
  },
  {
   "cell_type": "code",
   "execution_count": 4,
   "metadata": {
    "execution": {
     "iopub.execute_input": "2022-07-22T23:08:21.165539Z",
     "iopub.status.busy": "2022-07-22T23:08:21.163325Z",
     "iopub.status.idle": "2022-07-22T23:08:21.187384Z",
     "shell.execute_reply": "2022-07-22T23:08:21.186470Z",
     "shell.execute_reply.started": "2022-07-22T23:07:36.351815Z"
    },
    "papermill": {
     "duration": 0.047502,
     "end_time": "2022-07-22T23:08:21.187537",
     "exception": false,
     "start_time": "2022-07-22T23:08:21.140035",
     "status": "completed"
    },
    "tags": []
   },
   "outputs": [
    {
     "data": {
      "text/plain": [
       "Index(['Position', 'Club', 'Country', 'Participated', 'Titles', 'Played',\n",
       "       'Win', 'Draw', 'Loss', 'Goals For', 'Goals Against', 'Pts',\n",
       "       'Goal Diff'],\n",
       "      dtype='object')"
      ]
     },
     "execution_count": 4,
     "metadata": {},
     "output_type": "execute_result"
    }
   ],
   "source": [
    "AllTimeClub = pd.read_csv(os.path.join(PATH, \"AllTimeRankingByClub.csv\"), encoding='utf-16')\n",
    "AllTimeClub.columns"
   ]
  },
  {
   "cell_type": "code",
   "execution_count": 5,
   "metadata": {
    "execution": {
     "iopub.execute_input": "2022-07-22T23:08:21.251651Z",
     "iopub.status.busy": "2022-07-22T23:08:21.250959Z",
     "iopub.status.idle": "2022-07-22T23:08:21.560785Z",
     "shell.execute_reply": "2022-07-22T23:08:21.560161Z",
     "shell.execute_reply.started": "2022-07-22T23:07:36.384507Z"
    },
    "papermill": {
     "duration": 0.352601,
     "end_time": "2022-07-22T23:08:21.560934",
     "exception": false,
     "start_time": "2022-07-22T23:08:21.208333",
     "status": "completed"
    },
    "tags": []
   },
   "outputs": [
    {
     "data": {
      "image/png": "[encoded data removed]",
      "text/plain": [
       "<Figure size 1152x576 with 1 Axes>"
      ]
     },
     "metadata": {
      "needs_background": "light"
     },
     "output_type": "display_data"
    }
   ],
   "source": [
    "df = AllTimeClub.copy(deep=True)\n",
    "plt.figure(figsize=(16,8))\n",
    "plt.title(\"Top Countries with different clubs participating in competition\")\n",
    "df = df.groupby(\"Country\")[\"Club\"].count().sort_values(ascending=False)[:20].plot(kind='barh')"
   ]
  },
  {
   "cell_type": "markdown",
   "metadata": {
    "papermill": {
     "duration": 0.020463,
     "end_time": "2022-07-22T23:08:21.602481",
     "exception": false,
     "start_time": "2022-07-22T23:08:21.582018",
     "status": "completed"
    },
    "tags": []
   },
   "source": [
    "With the domination of the spanish clubs in the last decade I expected them to be in the top but the German clubs are a surprise for me. Even though both leagues have been dominated by a few clubs (2 in Spain and mostly 1 in Germany) it looks like overall the competition produces more balanced results for their clubs compared  other leagues by sending different clubs to Europe's top club competition"
   ]
  },
  {
   "cell_type": "markdown",
   "metadata": {
    "papermill": {
     "duration": 0.020473,
     "end_time": "2022-07-22T23:08:21.643744",
     "exception": false,
     "start_time": "2022-07-22T23:08:21.623271",
     "status": "completed"
    },
    "tags": []
   },
   "source": [
    "# Top scoring clubs per game in the competition"
   ]
  },
  {
   "cell_type": "code",
   "execution_count": 6,
   "metadata": {
    "execution": {
     "iopub.execute_input": "2022-07-22T23:08:21.689309Z",
     "iopub.status.busy": "2022-07-22T23:08:21.688718Z",
     "iopub.status.idle": "2022-07-22T23:08:22.030690Z",
     "shell.execute_reply": "2022-07-22T23:08:22.031177Z",
     "shell.execute_reply.started": "2022-07-22T23:07:36.748494Z"
    },
    "papermill": {
     "duration": 0.366283,
     "end_time": "2022-07-22T23:08:22.031344",
     "exception": false,
     "start_time": "2022-07-22T23:08:21.665061",
     "status": "completed"
    },
    "tags": []
   },
   "outputs": [
    {
     "data": {
      "image/png": "[encoded data removed]",
      "text/plain": [
       "<Figure size 1152x576 with 1 Axes>"
      ]
     },
     "metadata": {
      "needs_background": "light"
     },
     "output_type": "display_data"
    }
   ],
   "source": [
    "df = AllTimeClub.copy(deep=True)\n",
    "df[\"GPG\"] = df[\"Goals For\"] / df[\"Played\"]\n",
    "plt.figure(figsize=(16,8))\n",
    "plt.title(\"Clubs with highest Goals Per Game average in the competition\")\n",
    "df = df.groupby([\"Club\", \"Country\"])[\"GPG\"].max().sort_values(ascending=False)[:20].plot(kind='barh')"
   ]
  },
  {
   "cell_type": "markdown",
   "metadata": {
    "papermill": {
     "duration": 0.022163,
     "end_time": "2022-07-22T23:08:22.076105",
     "exception": false,
     "start_time": "2022-07-22T23:08:22.053942",
     "status": "completed"
    },
    "tags": []
   },
   "source": [
    "This list has more surprising results than the country list.  PSG, Manchester City, Hoffenheim & Tottenham were not teams I was expecting to see so high in the list. Obviously the less games you participate in, while scoring many goals in those few games skews the results.  Lets confirm"
   ]
  },
  {
   "cell_type": "markdown",
   "metadata": {
    "papermill": {
     "duration": 0.022203,
     "end_time": "2022-07-22T23:08:22.120901",
     "exception": false,
     "start_time": "2022-07-22T23:08:22.098698",
     "status": "completed"
    },
    "tags": []
   },
   "source": [
    "So lets look at those clubs and how many games have they played or have participated in the competition."
   ]
  },
  {
   "cell_type": "code",
   "execution_count": 7,
   "metadata": {
    "execution": {
     "iopub.execute_input": "2022-07-22T23:08:22.170107Z",
     "iopub.status.busy": "2022-07-22T23:08:22.169115Z",
     "iopub.status.idle": "2022-07-22T23:08:22.205968Z",
     "shell.execute_reply": "2022-07-22T23:08:22.206407Z",
     "shell.execute_reply.started": "2022-07-22T23:07:37.128741Z"
    },
    "papermill": {
     "duration": 0.062893,
     "end_time": "2022-07-22T23:08:22.206606",
     "exception": false,
     "start_time": "2022-07-22T23:08:22.143713",
     "status": "completed"
    },
    "tags": []
   },
   "outputs": [
    {
     "data": {
      "text/html": [
       "<div>\n",
       "<style scoped>\n",
       "    .dataframe tbody tr th:only-of-type {\n",
       "        vertical-align: middle;\n",
       "    }\n",
       "\n",
       "    .dataframe tbody tr th {\n",
       "        vertical-align: top;\n",
       "    }\n",
       "\n",
       "    .dataframe thead th {\n",
       "        text-align: right;\n",
       "    }\n",
       "</style>\n",
       "<table border=\"1\" class=\"dataframe\">\n",
       "  <thead>\n",
       "    <tr style=\"text-align: right;\">\n",
       "      <th></th>\n",
       "      <th>Position</th>\n",
       "      <th>Club</th>\n",
       "      <th>Country</th>\n",
       "      <th>Participated</th>\n",
       "      <th>Titles</th>\n",
       "      <th>Played</th>\n",
       "      <th>Win</th>\n",
       "      <th>Draw</th>\n",
       "      <th>Loss</th>\n",
       "      <th>Goals For</th>\n",
       "      <th>Goals Against</th>\n",
       "      <th>Pts</th>\n",
       "      <th>Goal Diff</th>\n",
       "    </tr>\n",
       "  </thead>\n",
       "  <tbody>\n",
       "    <tr>\n",
       "      <th>0</th>\n",
       "      <td>1</td>\n",
       "      <td>Real Madrid CF</td>\n",
       "      <td>ESP</td>\n",
       "      <td>52</td>\n",
       "      <td>14</td>\n",
       "      <td>464</td>\n",
       "      <td>277</td>\n",
       "      <td>79</td>\n",
       "      <td>108</td>\n",
       "      <td>1021</td>\n",
       "      <td>508.0</td>\n",
       "      <td>633.0</td>\n",
       "      <td>513.0</td>\n",
       "    </tr>\n",
       "    <tr>\n",
       "      <th>1</th>\n",
       "      <td>2</td>\n",
       "      <td>FC Bayern München</td>\n",
       "      <td>GER</td>\n",
       "      <td>38</td>\n",
       "      <td>6</td>\n",
       "      <td>372</td>\n",
       "      <td>221</td>\n",
       "      <td>75</td>\n",
       "      <td>76</td>\n",
       "      <td>782</td>\n",
       "      <td>367.0</td>\n",
       "      <td>517.0</td>\n",
       "      <td>415.0</td>\n",
       "    </tr>\n",
       "    <tr>\n",
       "      <th>32</th>\n",
       "      <td>33</td>\n",
       "      <td>Manchester City FC</td>\n",
       "      <td>ENG</td>\n",
       "      <td>12</td>\n",
       "      <td>0</td>\n",
       "      <td>106</td>\n",
       "      <td>58</td>\n",
       "      <td>19</td>\n",
       "      <td>29</td>\n",
       "      <td>213</td>\n",
       "      <td>126.0</td>\n",
       "      <td>135.0</td>\n",
       "      <td>87.0</td>\n",
       "    </tr>\n",
       "    <tr>\n",
       "      <th>109</th>\n",
       "      <td>110</td>\n",
       "      <td>Stade de Reims</td>\n",
       "      <td>FRA</td>\n",
       "      <td>4</td>\n",
       "      <td>0</td>\n",
       "      <td>24</td>\n",
       "      <td>14</td>\n",
       "      <td>3</td>\n",
       "      <td>7</td>\n",
       "      <td>63</td>\n",
       "      <td>30.0</td>\n",
       "      <td>31.0</td>\n",
       "      <td>33.0</td>\n",
       "    </tr>\n",
       "    <tr>\n",
       "      <th>110</th>\n",
       "      <td>111</td>\n",
       "      <td>Vasas FC</td>\n",
       "      <td>HUN</td>\n",
       "      <td>6</td>\n",
       "      <td>0</td>\n",
       "      <td>27</td>\n",
       "      <td>12</td>\n",
       "      <td>6</td>\n",
       "      <td>9</td>\n",
       "      <td>62</td>\n",
       "      <td>34.0</td>\n",
       "      <td>30.0</td>\n",
       "      <td>28.0</td>\n",
       "    </tr>\n",
       "    <tr>\n",
       "      <th>199</th>\n",
       "      <td>200</td>\n",
       "      <td>1 FC Nürnberg</td>\n",
       "      <td>GER</td>\n",
       "      <td>2</td>\n",
       "      <td>0</td>\n",
       "      <td>8</td>\n",
       "      <td>5</td>\n",
       "      <td>1</td>\n",
       "      <td>2</td>\n",
       "      <td>16</td>\n",
       "      <td>14.0</td>\n",
       "      <td>11.0</td>\n",
       "      <td>2.0</td>\n",
       "    </tr>\n",
       "    <tr>\n",
       "      <th>216</th>\n",
       "      <td>217</td>\n",
       "      <td>FC Ararat Yerevan</td>\n",
       "      <td>ARM</td>\n",
       "      <td>1</td>\n",
       "      <td>0</td>\n",
       "      <td>6</td>\n",
       "      <td>5</td>\n",
       "      <td>0</td>\n",
       "      <td>1</td>\n",
       "      <td>14</td>\n",
       "      <td>5.0</td>\n",
       "      <td>10.0</td>\n",
       "      <td>9.0</td>\n",
       "    </tr>\n",
       "    <tr>\n",
       "      <th>217</th>\n",
       "      <td>218</td>\n",
       "      <td>Eintracht Frankfurt</td>\n",
       "      <td>GER</td>\n",
       "      <td>1</td>\n",
       "      <td>0</td>\n",
       "      <td>7</td>\n",
       "      <td>4</td>\n",
       "      <td>2</td>\n",
       "      <td>1</td>\n",
       "      <td>23</td>\n",
       "      <td>15.0</td>\n",
       "      <td>10.0</td>\n",
       "      <td>8.0</td>\n",
       "    </tr>\n",
       "    <tr>\n",
       "      <th>218</th>\n",
       "      <td>219</td>\n",
       "      <td>Dundee FC</td>\n",
       "      <td>SCO</td>\n",
       "      <td>1</td>\n",
       "      <td>0</td>\n",
       "      <td>8</td>\n",
       "      <td>5</td>\n",
       "      <td>0</td>\n",
       "      <td>3</td>\n",
       "      <td>20</td>\n",
       "      <td>14.0</td>\n",
       "      <td>10.0</td>\n",
       "      <td>6.0</td>\n",
       "    </tr>\n",
       "    <tr>\n",
       "      <th>231</th>\n",
       "      <td>232</td>\n",
       "      <td>FC Amsterdam</td>\n",
       "      <td>NED</td>\n",
       "      <td>1</td>\n",
       "      <td>0</td>\n",
       "      <td>6</td>\n",
       "      <td>4</td>\n",
       "      <td>1</td>\n",
       "      <td>1</td>\n",
       "      <td>13</td>\n",
       "      <td>4.0</td>\n",
       "      <td>9.0</td>\n",
       "      <td>9.0</td>\n",
       "    </tr>\n",
       "    <tr>\n",
       "      <th>256</th>\n",
       "      <td>257</td>\n",
       "      <td>FC Lokomotiv Sofia 1929</td>\n",
       "      <td>BUL</td>\n",
       "      <td>2</td>\n",
       "      <td>0</td>\n",
       "      <td>8</td>\n",
       "      <td>3</td>\n",
       "      <td>1</td>\n",
       "      <td>4</td>\n",
       "      <td>19</td>\n",
       "      <td>21.0</td>\n",
       "      <td>7.0</td>\n",
       "      <td>-2.0</td>\n",
       "    </tr>\n",
       "    <tr>\n",
       "      <th>262</th>\n",
       "      <td>263</td>\n",
       "      <td>Ipswich Town FC</td>\n",
       "      <td>ENG</td>\n",
       "      <td>1</td>\n",
       "      <td>0</td>\n",
       "      <td>4</td>\n",
       "      <td>3</td>\n",
       "      <td>0</td>\n",
       "      <td>1</td>\n",
       "      <td>16</td>\n",
       "      <td>5.0</td>\n",
       "      <td>6.0</td>\n",
       "      <td>11.0</td>\n",
       "    </tr>\n",
       "    <tr>\n",
       "      <th>263</th>\n",
       "      <td>264</td>\n",
       "      <td>TSV 1860 München</td>\n",
       "      <td>GER</td>\n",
       "      <td>2</td>\n",
       "      <td>0</td>\n",
       "      <td>6</td>\n",
       "      <td>3</td>\n",
       "      <td>0</td>\n",
       "      <td>3</td>\n",
       "      <td>13</td>\n",
       "      <td>7.0</td>\n",
       "      <td>6.0</td>\n",
       "      <td>6.0</td>\n",
       "    </tr>\n",
       "    <tr>\n",
       "      <th>284</th>\n",
       "      <td>285</td>\n",
       "      <td>KSP Polonia Warszawa</td>\n",
       "      <td>POL</td>\n",
       "      <td>1</td>\n",
       "      <td>0</td>\n",
       "      <td>4</td>\n",
       "      <td>2</td>\n",
       "      <td>1</td>\n",
       "      <td>1</td>\n",
       "      <td>10</td>\n",
       "      <td>8.0</td>\n",
       "      <td>5.0</td>\n",
       "      <td>2.0</td>\n",
       "    </tr>\n",
       "    <tr>\n",
       "      <th>309</th>\n",
       "      <td>310</td>\n",
       "      <td>FC Dynamo Brest</td>\n",
       "      <td>BLR</td>\n",
       "      <td>1</td>\n",
       "      <td>0</td>\n",
       "      <td>3</td>\n",
       "      <td>2</td>\n",
       "      <td>0</td>\n",
       "      <td>1</td>\n",
       "      <td>8</td>\n",
       "      <td>5.0</td>\n",
       "      <td>4.0</td>\n",
       "      <td>3.0</td>\n",
       "    </tr>\n",
       "    <tr>\n",
       "      <th>311</th>\n",
       "      <td>312</td>\n",
       "      <td>B 1913 Odense</td>\n",
       "      <td>DEN</td>\n",
       "      <td>1</td>\n",
       "      <td>0</td>\n",
       "      <td>4</td>\n",
       "      <td>2</td>\n",
       "      <td>0</td>\n",
       "      <td>2</td>\n",
       "      <td>15</td>\n",
       "      <td>14.0</td>\n",
       "      <td>4.0</td>\n",
       "      <td>1.0</td>\n",
       "    </tr>\n",
       "    <tr>\n",
       "      <th>365</th>\n",
       "      <td>366</td>\n",
       "      <td>NK Celje</td>\n",
       "      <td>SVN</td>\n",
       "      <td>1</td>\n",
       "      <td>0</td>\n",
       "      <td>2</td>\n",
       "      <td>1</td>\n",
       "      <td>0</td>\n",
       "      <td>1</td>\n",
       "      <td>4</td>\n",
       "      <td>2.0</td>\n",
       "      <td>2.0</td>\n",
       "      <td>2.0</td>\n",
       "    </tr>\n",
       "    <tr>\n",
       "      <th>366</th>\n",
       "      <td>367</td>\n",
       "      <td>Cwmbran Town FC</td>\n",
       "      <td>WAL</td>\n",
       "      <td>1</td>\n",
       "      <td>0</td>\n",
       "      <td>2</td>\n",
       "      <td>1</td>\n",
       "      <td>0</td>\n",
       "      <td>1</td>\n",
       "      <td>4</td>\n",
       "      <td>4.0</td>\n",
       "      <td>2.0</td>\n",
       "      <td>0.0</td>\n",
       "    </tr>\n",
       "    <tr>\n",
       "      <th>373</th>\n",
       "      <td>374</td>\n",
       "      <td>FC Koper</td>\n",
       "      <td>SVN</td>\n",
       "      <td>1</td>\n",
       "      <td>0</td>\n",
       "      <td>2</td>\n",
       "      <td>1</td>\n",
       "      <td>0</td>\n",
       "      <td>1</td>\n",
       "      <td>4</td>\n",
       "      <td>5.0</td>\n",
       "      <td>2.0</td>\n",
       "      <td>-1.0</td>\n",
       "    </tr>\n",
       "    <tr>\n",
       "      <th>378</th>\n",
       "      <td>379</td>\n",
       "      <td>1 FC Saarbrücken</td>\n",
       "      <td>GER</td>\n",
       "      <td>1</td>\n",
       "      <td>0</td>\n",
       "      <td>2</td>\n",
       "      <td>1</td>\n",
       "      <td>0</td>\n",
       "      <td>1</td>\n",
       "      <td>5</td>\n",
       "      <td>7.0</td>\n",
       "      <td>2.0</td>\n",
       "      <td>-2.0</td>\n",
       "    </tr>\n",
       "  </tbody>\n",
       "</table>\n",
       "</div>"
      ],
      "text/plain": [
       "     Position                     Club Country  Participated  Titles  Played  \\\n",
       "0           1           Real Madrid CF     ESP            52      14     464   \n",
       "1           2        FC Bayern München     GER            38       6     372   \n",
       "32         33       Manchester City FC     ENG            12       0     106   \n",
       "109       110           Stade de Reims     FRA             4       0      24   \n",
       "110       111                 Vasas FC     HUN             6       0      27   \n",
       "199       200            1 FC Nürnberg     GER             2       0       8   \n",
       "216       217        FC Ararat Yerevan     ARM             1       0       6   \n",
       "217       218      Eintracht Frankfurt     GER             1       0       7   \n",
       "218       219                Dundee FC     SCO             1       0       8   \n",
       "231       232             FC Amsterdam     NED             1       0       6   \n",
       "256       257  FC Lokomotiv Sofia 1929     BUL             2       0       8   \n",
       "262       263          Ipswich Town FC     ENG             1       0       4   \n",
       "263       264         TSV 1860 München     GER             2       0       6   \n",
       "284       285     KSP Polonia Warszawa     POL             1       0       4   \n",
       "309       310          FC Dynamo Brest     BLR             1       0       3   \n",
       "311       312            B 1913 Odense     DEN             1       0       4   \n",
       "365       366                 NK Celje     SVN             1       0       2   \n",
       "366       367          Cwmbran Town FC     WAL             1       0       2   \n",
       "373       374                 FC Koper     SVN             1       0       2   \n",
       "378       379         1 FC Saarbrücken     GER             1       0       2   \n",
       "\n",
       "     Win  Draw  Loss  Goals For  Goals Against    Pts  Goal Diff  \n",
       "0    277    79   108       1021          508.0  633.0      513.0  \n",
       "1    221    75    76        782          367.0  517.0      415.0  \n",
       "32    58    19    29        213          126.0  135.0       87.0  \n",
       "109   14     3     7         63           30.0   31.0       33.0  \n",
       "110   12     6     9         62           34.0   30.0       28.0  \n",
       "199    5     1     2         16           14.0   11.0        2.0  \n",
       "216    5     0     1         14            5.0   10.0        9.0  \n",
       "217    4     2     1         23           15.0   10.0        8.0  \n",
       "218    5     0     3         20           14.0   10.0        6.0  \n",
       "231    4     1     1         13            4.0    9.0        9.0  \n",
       "256    3     1     4         19           21.0    7.0       -2.0  \n",
       "262    3     0     1         16            5.0    6.0       11.0  \n",
       "263    3     0     3         13            7.0    6.0        6.0  \n",
       "284    2     1     1         10            8.0    5.0        2.0  \n",
       "309    2     0     1          8            5.0    4.0        3.0  \n",
       "311    2     0     2         15           14.0    4.0        1.0  \n",
       "365    1     0     1          4            2.0    2.0        2.0  \n",
       "366    1     0     1          4            4.0    2.0        0.0  \n",
       "373    1     0     1          4            5.0    2.0       -1.0  \n",
       "378    1     0     1          5            7.0    2.0       -2.0  "
      ]
     },
     "execution_count": 7,
     "metadata": {},
     "output_type": "execute_result"
    }
   ],
   "source": [
    "df = AllTimeClub.copy(deep=True)\n",
    "df[\"GPG\"] = df[\"Goals For\"] / df[\"Played\"]\n",
    "df = df.groupby(\"Club\")[\"GPG\"].max().sort_values(ascending=False)[:20]\n",
    "AllTimeClub.loc[AllTimeClub[\"Club\"].isin(df.index.tolist())]"
   ]
  },
  {
   "cell_type": "markdown",
   "metadata": {
    "papermill": {
     "duration": 0.023099,
     "end_time": "2022-07-22T23:08:22.253419",
     "exception": false,
     "start_time": "2022-07-22T23:08:22.230320",
     "status": "completed"
    },
    "tags": []
   },
   "source": [
    "We can see that at least 3 teams have only played once in the competition, while 3 others have participated 5 times or less.  There are many ways to slice and dice this dataset so please enjoy and share some of the interesting findings that you come up with."
   ]
  },
  {
   "cell_type": "code",
   "execution_count": 8,
   "metadata": {
    "execution": {
     "iopub.execute_input": "2022-07-22T23:08:22.304831Z",
     "iopub.status.busy": "2022-07-22T23:08:22.303859Z",
     "iopub.status.idle": "2022-07-22T23:08:22.308014Z",
     "shell.execute_reply": "2022-07-22T23:08:22.308492Z",
     "shell.execute_reply.started": "2022-07-22T23:07:37.173676Z"
    },
    "papermill": {
     "duration": 0.031349,
     "end_time": "2022-07-22T23:08:22.308690",
     "exception": false,
     "start_time": "2022-07-22T23:08:22.277341",
     "status": "completed"
    },
    "tags": []
   },
   "outputs": [],
   "source": [
    "del df"
   ]
  },
  {
   "cell_type": "markdown",
   "metadata": {
    "papermill": {
     "duration": 0.023263,
     "end_time": "2022-07-22T23:08:22.355393",
     "exception": false,
     "start_time": "2022-07-22T23:08:22.332130",
     "status": "completed"
    },
    "tags": []
   },
   "source": [
    "# Coach with the most appearances for a single club\n",
    "We will analyze the CoachesAppearDetails file which has the details broken down by each club that the coach represented.  The CoachsAppearTotals is just the sum of this data without the club represented"
   ]
  },
  {
   "cell_type": "code",
   "execution_count": 9,
   "metadata": {
    "execution": {
     "iopub.execute_input": "2022-07-22T23:08:22.409566Z",
     "iopub.status.busy": "2022-07-22T23:08:22.408893Z",
     "iopub.status.idle": "2022-07-22T23:08:22.426621Z",
     "shell.execute_reply": "2022-07-22T23:08:22.427222Z",
     "shell.execute_reply.started": "2022-07-22T23:07:37.182260Z"
    },
    "papermill": {
     "duration": 0.048349,
     "end_time": "2022-07-22T23:08:22.427399",
     "exception": false,
     "start_time": "2022-07-22T23:08:22.379050",
     "status": "completed"
    },
    "tags": []
   },
   "outputs": [
    {
     "data": {
      "text/html": [
       "<div>\n",
       "<style scoped>\n",
       "    .dataframe tbody tr th:only-of-type {\n",
       "        vertical-align: middle;\n",
       "    }\n",
       "\n",
       "    .dataframe tbody tr th {\n",
       "        vertical-align: top;\n",
       "    }\n",
       "\n",
       "    .dataframe thead th {\n",
       "        text-align: right;\n",
       "    }\n",
       "</style>\n",
       "<table border=\"1\" class=\"dataframe\">\n",
       "  <thead>\n",
       "    <tr style=\"text-align: right;\">\n",
       "      <th></th>\n",
       "      <th>Coach</th>\n",
       "      <th>Club</th>\n",
       "      <th>Appearance</th>\n",
       "    </tr>\n",
       "  </thead>\n",
       "  <tbody>\n",
       "    <tr>\n",
       "      <th>0</th>\n",
       "      <td>Sir Alex Ferguson</td>\n",
       "      <td>Manchester United FC</td>\n",
       "      <td>190</td>\n",
       "    </tr>\n",
       "    <tr>\n",
       "      <th>1</th>\n",
       "      <td>Carlo Ancelotti</td>\n",
       "      <td>FC Bayern München</td>\n",
       "      <td>12</td>\n",
       "    </tr>\n",
       "    <tr>\n",
       "      <th>2</th>\n",
       "      <td>Carlo Ancelotti</td>\n",
       "      <td>Juventus</td>\n",
       "      <td>10</td>\n",
       "    </tr>\n",
       "    <tr>\n",
       "      <th>3</th>\n",
       "      <td>Carlo Ancelotti</td>\n",
       "      <td>Chelsea FC</td>\n",
       "      <td>18</td>\n",
       "    </tr>\n",
       "    <tr>\n",
       "      <th>4</th>\n",
       "      <td>Carlo Ancelotti</td>\n",
       "      <td>AC Milan</td>\n",
       "      <td>73</td>\n",
       "    </tr>\n",
       "    <tr>\n",
       "      <th>...</th>\n",
       "      <td>...</td>\n",
       "      <td>...</td>\n",
       "      <td>...</td>\n",
       "    </tr>\n",
       "    <tr>\n",
       "      <th>107</th>\n",
       "      <td>Ernesto Valverde</td>\n",
       "      <td>FC Barcelona</td>\n",
       "      <td>28</td>\n",
       "    </tr>\n",
       "    <tr>\n",
       "      <th>108</th>\n",
       "      <td>Felix Magath</td>\n",
       "      <td>VfB Stuttgart</td>\n",
       "      <td>8</td>\n",
       "    </tr>\n",
       "    <tr>\n",
       "      <th>109</th>\n",
       "      <td>Felix Magath</td>\n",
       "      <td>FC Schalke 04</td>\n",
       "      <td>8</td>\n",
       "    </tr>\n",
       "    <tr>\n",
       "      <th>110</th>\n",
       "      <td>Felix Magath</td>\n",
       "      <td>FC Bayern München</td>\n",
       "      <td>24</td>\n",
       "    </tr>\n",
       "    <tr>\n",
       "      <th>111</th>\n",
       "      <td>Thomas Schaaf</td>\n",
       "      <td>SV Werder Bremen</td>\n",
       "      <td>40</td>\n",
       "    </tr>\n",
       "  </tbody>\n",
       "</table>\n",
       "<p>112 rows × 3 columns</p>\n",
       "</div>"
      ],
      "text/plain": [
       "                 Coach                  Club  Appearance\n",
       "0    Sir Alex Ferguson  Manchester United FC         190\n",
       "1      Carlo Ancelotti     FC Bayern München          12\n",
       "2      Carlo Ancelotti              Juventus          10\n",
       "3      Carlo Ancelotti            Chelsea FC          18\n",
       "4      Carlo Ancelotti              AC Milan          73\n",
       "..                 ...                   ...         ...\n",
       "107   Ernesto Valverde          FC Barcelona          28\n",
       "108       Felix Magath         VfB Stuttgart           8\n",
       "109       Felix Magath         FC Schalke 04           8\n",
       "110       Felix Magath     FC Bayern München          24\n",
       "111      Thomas Schaaf      SV Werder Bremen          40\n",
       "\n",
       "[112 rows x 3 columns]"
      ]
     },
     "execution_count": 9,
     "metadata": {},
     "output_type": "execute_result"
    }
   ],
   "source": [
    "CoachAppear = pd.read_csv(os.path.join(PATH, \"CoachesAppearDetails.csv\"), index_col='Unnamed: 0')\n",
    "CoachAppear"
   ]
  },
  {
   "cell_type": "markdown",
   "metadata": {
    "papermill": {
     "duration": 0.023729,
     "end_time": "2022-07-22T23:08:22.475109",
     "exception": false,
     "start_time": "2022-07-22T23:08:22.451380",
     "status": "completed"
    },
    "tags": []
   },
   "source": [
    "Lets see who are the coaches with the most appearances with a single club and which club it was"
   ]
  },
  {
   "cell_type": "code",
   "execution_count": 10,
   "metadata": {
    "execution": {
     "iopub.execute_input": "2022-07-22T23:08:22.526060Z",
     "iopub.status.busy": "2022-07-22T23:08:22.525410Z",
     "iopub.status.idle": "2022-07-22T23:08:22.538231Z",
     "shell.execute_reply": "2022-07-22T23:08:22.538765Z",
     "shell.execute_reply.started": "2022-07-22T23:07:37.213337Z"
    },
    "papermill": {
     "duration": 0.039811,
     "end_time": "2022-07-22T23:08:22.538934",
     "exception": false,
     "start_time": "2022-07-22T23:08:22.499123",
     "status": "completed"
    },
    "tags": []
   },
   "outputs": [
    {
     "data": {
      "text/plain": [
       "Coach                 Club                   \n",
       "Sir Alex Ferguson     Manchester United FC       190\n",
       "Arsène Wenger         Arsenal FC                 171\n",
       "Diego Simeone         Club Atlético de Madrid     87\n",
       "Marcello Lippi        Juventus                    76\n",
       "Ottmar Hitzfeld       FC Bayern München           76\n",
       "Carlo Ancelotti       AC Milan                    73\n",
       "Mircea Lucescu        FC Shakhtar Donetsk         68\n",
       "Josep Guardiola       Manchester City FC          62\n",
       "Rafael Benítez        Liverpool FC                62\n",
       "Massimiliano Allegri  Juventus                    62\n",
       "Name: Appearance, dtype: int64"
      ]
     },
     "execution_count": 10,
     "metadata": {},
     "output_type": "execute_result"
    }
   ],
   "source": [
    "df = CoachAppear.copy(deep=True)\n",
    "df = df.groupby([\"Coach\", \"Club\"])[\"Appearance\"].max().sort_values(ascending=False)[:10]\n",
    "df"
   ]
  },
  {
   "cell_type": "markdown",
   "metadata": {
    "papermill": {
     "duration": 0.024342,
     "end_time": "2022-07-22T23:08:22.587776",
     "exception": false,
     "start_time": "2022-07-22T23:08:22.563434",
     "status": "completed"
    },
    "tags": []
   },
   "source": [
    "# Coach that represented the most clubs in the competition\n",
    "And now lets looks at which coach has coached the most clubs in the competition, I expected Ancelotti to be up there but I didn't know that Koeman has coached so many diffeernt clubs, need to brush up on my CL history :)"
   ]
  },
  {
   "cell_type": "code",
   "execution_count": 11,
   "metadata": {
    "execution": {
     "iopub.execute_input": "2022-07-22T23:08:22.639770Z",
     "iopub.status.busy": "2022-07-22T23:08:22.639125Z",
     "iopub.status.idle": "2022-07-22T23:08:22.928037Z",
     "shell.execute_reply": "2022-07-22T23:08:22.927350Z",
     "shell.execute_reply.started": "2022-07-22T23:07:37.231015Z"
    },
    "papermill": {
     "duration": 0.316108,
     "end_time": "2022-07-22T23:08:22.928188",
     "exception": false,
     "start_time": "2022-07-22T23:08:22.612080",
     "status": "completed"
    },
    "tags": []
   },
   "outputs": [
    {
     "data": {
      "image/png": "[encoded data removed]",
      "text/plain": [
       "<Figure size 1152x576 with 1 Axes>"
      ]
     },
     "metadata": {
      "needs_background": "light"
     },
     "output_type": "display_data"
    }
   ],
   "source": [
    "df = CoachAppear.copy(deep=True)\n",
    "plt.figure(figsize=(16,8))\n",
    "df = df.groupby([\"Coach\"])[\"Club\"].count().sort_values(ascending=False)[:15].plot(kind='bar')"
   ]
  },
  {
   "cell_type": "code",
   "execution_count": 12,
   "metadata": {
    "execution": {
     "iopub.execute_input": "2022-07-22T23:08:22.995500Z",
     "iopub.status.busy": "2022-07-22T23:08:22.994374Z",
     "iopub.status.idle": "2022-07-22T23:08:22.997681Z",
     "shell.execute_reply": "2022-07-22T23:08:22.997010Z",
     "shell.execute_reply.started": "2022-07-22T23:07:37.527597Z"
    },
    "papermill": {
     "duration": 0.040581,
     "end_time": "2022-07-22T23:08:22.997858",
     "exception": false,
     "start_time": "2022-07-22T23:08:22.957277",
     "status": "completed"
    },
    "tags": []
   },
   "outputs": [],
   "source": [
    "del df"
   ]
  },
  {
   "cell_type": "markdown",
   "metadata": {
    "papermill": {
     "duration": 0.026059,
     "end_time": "2022-07-22T23:08:23.050947",
     "exception": false,
     "start_time": "2022-07-22T23:08:23.024888",
     "status": "completed"
    },
    "tags": []
   },
   "source": [
    "# Analyzing the Player appearances\n",
    "This dataset looks very similar to the coaches data so lets repeat the same analysis.  The player that played the most games for a single club (Note: this player could play for multiple clubs but this is the most games for a club) is:"
   ]
  },
  {
   "cell_type": "code",
   "execution_count": 13,
   "metadata": {
    "execution": {
     "iopub.execute_input": "2022-07-22T23:08:23.108375Z",
     "iopub.status.busy": "2022-07-22T23:08:23.107722Z",
     "iopub.status.idle": "2022-07-22T23:08:23.126907Z",
     "shell.execute_reply": "2022-07-22T23:08:23.127426Z",
     "shell.execute_reply.started": "2022-07-22T23:07:37.533879Z"
    },
    "papermill": {
     "duration": 0.050429,
     "end_time": "2022-07-22T23:08:23.127618",
     "exception": false,
     "start_time": "2022-07-22T23:08:23.077189",
     "status": "completed"
    },
    "tags": []
   },
   "outputs": [
    {
     "data": {
      "text/html": [
       "<div>\n",
       "<style scoped>\n",
       "    .dataframe tbody tr th:only-of-type {\n",
       "        vertical-align: middle;\n",
       "    }\n",
       "\n",
       "    .dataframe tbody tr th {\n",
       "        vertical-align: top;\n",
       "    }\n",
       "\n",
       "    .dataframe thead th {\n",
       "        text-align: right;\n",
       "    }\n",
       "</style>\n",
       "<table border=\"1\" class=\"dataframe\">\n",
       "  <thead>\n",
       "    <tr style=\"text-align: right;\">\n",
       "      <th></th>\n",
       "      <th>Player</th>\n",
       "      <th>Club</th>\n",
       "      <th>Appearances</th>\n",
       "    </tr>\n",
       "  </thead>\n",
       "  <tbody>\n",
       "    <tr>\n",
       "      <th>0</th>\n",
       "      <td>Cristiano Ronaldo</td>\n",
       "      <td>Real Madrid CF</td>\n",
       "      <td>101</td>\n",
       "    </tr>\n",
       "    <tr>\n",
       "      <th>1</th>\n",
       "      <td>Cristiano Ronaldo</td>\n",
       "      <td>Juventus</td>\n",
       "      <td>23</td>\n",
       "    </tr>\n",
       "    <tr>\n",
       "      <th>2</th>\n",
       "      <td>Cristiano Ronaldo</td>\n",
       "      <td>Manchester United FC</td>\n",
       "      <td>59</td>\n",
       "    </tr>\n",
       "    <tr>\n",
       "      <th>3</th>\n",
       "      <td>Iker Casillas</td>\n",
       "      <td>Real Madrid CF</td>\n",
       "      <td>150</td>\n",
       "    </tr>\n",
       "    <tr>\n",
       "      <th>4</th>\n",
       "      <td>Iker Casillas</td>\n",
       "      <td>FC Porto</td>\n",
       "      <td>27</td>\n",
       "    </tr>\n",
       "    <tr>\n",
       "      <th>...</th>\n",
       "      <td>...</td>\n",
       "      <td>...</td>\n",
       "      <td>...</td>\n",
       "    </tr>\n",
       "    <tr>\n",
       "      <th>658</th>\n",
       "      <td>Mathieu Flamini</td>\n",
       "      <td>Arsenal FC</td>\n",
       "      <td>42</td>\n",
       "    </tr>\n",
       "    <tr>\n",
       "      <th>659</th>\n",
       "      <td>Sadio Mané</td>\n",
       "      <td>Liverpool FC</td>\n",
       "      <td>(13)</td>\n",
       "    </tr>\n",
       "    <tr>\n",
       "      <th>660</th>\n",
       "      <td>Adrien Rabiot</td>\n",
       "      <td>Paris Saint-Germain</td>\n",
       "      <td>36</td>\n",
       "    </tr>\n",
       "    <tr>\n",
       "      <th>661</th>\n",
       "      <td>Adrien Rabiot</td>\n",
       "      <td>Juventus</td>\n",
       "      <td>19</td>\n",
       "    </tr>\n",
       "    <tr>\n",
       "      <th>662</th>\n",
       "      <td>Bent Skammelsrud</td>\n",
       "      <td>Rosenborg BK</td>\n",
       "      <td>55</td>\n",
       "    </tr>\n",
       "  </tbody>\n",
       "</table>\n",
       "<p>663 rows × 3 columns</p>\n",
       "</div>"
      ],
      "text/plain": [
       "                Player                  Club Appearances\n",
       "0    Cristiano Ronaldo        Real Madrid CF         101\n",
       "1    Cristiano Ronaldo              Juventus          23\n",
       "2    Cristiano Ronaldo  Manchester United FC          59\n",
       "3        Iker Casillas        Real Madrid CF         150\n",
       "4        Iker Casillas              FC Porto          27\n",
       "..                 ...                   ...         ...\n",
       "658    Mathieu Flamini            Arsenal FC          42\n",
       "659         Sadio Mané          Liverpool FC        (13)\n",
       "660      Adrien Rabiot   Paris Saint-Germain          36\n",
       "661      Adrien Rabiot              Juventus          19\n",
       "662   Bent Skammelsrud          Rosenborg BK          55\n",
       "\n",
       "[663 rows x 3 columns]"
      ]
     },
     "execution_count": 13,
     "metadata": {},
     "output_type": "execute_result"
    }
   ],
   "source": [
    "PlayerAppear = pd.read_csv(os.path.join(PATH, \"PlayerAppearDetails.csv\"), index_col='Unnamed: 0')\n",
    "PlayerAppear"
   ]
  },
  {
   "cell_type": "code",
   "execution_count": 14,
   "metadata": {
    "execution": {
     "iopub.execute_input": "2022-07-22T23:08:23.192579Z",
     "iopub.status.busy": "2022-07-22T23:08:23.191638Z",
     "iopub.status.idle": "2022-07-22T23:08:23.277441Z",
     "shell.execute_reply": "2022-07-22T23:08:23.276951Z",
     "shell.execute_reply.started": "2022-07-22T23:07:37.564882Z"
    },
    "papermill": {
     "duration": 0.123031,
     "end_time": "2022-07-22T23:08:23.277597",
     "exception": false,
     "start_time": "2022-07-22T23:08:23.154566",
     "status": "completed"
    },
    "tags": []
   },
   "outputs": [
    {
     "data": {
      "text/plain": [
       "Player            Club                    \n",
       "Luka Modrić       Real Madrid CF              99\n",
       "Javier Zanetti    FC Internazionale Milano    97\n",
       "Guti              Real Madrid CF              97\n",
       "Petr Čech         Chelsea FC                  94\n",
       "David Alaba       FC Bayern München           91\n",
       "Samuel Eto’o      Chelsea FC                   9\n",
       "Claudio Pizarro   SV Werder Bremen             9\n",
       "Thierry Henry     AS Monaco FC                 9\n",
       "Claude Makelele   FC Nantes                    9\n",
       "Mikaël Silvestre  Arsenal FC                   9\n",
       "Giovane Elber     Olympique Lyonnais           9\n",
       "Wesley Sneijder   Real Madrid CF               9\n",
       "Mark van Bommel   FC Barcelona                 9\n",
       "Julian Draxler    VfL Wolfsburg                9\n",
       "Gareth Bale       Tottenham Hotspur            9\n",
       "Name: Appearances, dtype: object"
      ]
     },
     "execution_count": 14,
     "metadata": {},
     "output_type": "execute_result"
    }
   ],
   "source": [
    "df = PlayerAppear.copy(deep=True)\n",
    "df = df.groupby([\"Player\", \"Club\"])[\"Appearances\"].max().sort_values(ascending=False)[:15]\n",
    "df"
   ]
  },
  {
   "cell_type": "code",
   "execution_count": 15,
   "metadata": {
    "execution": {
     "iopub.execute_input": "2022-07-22T23:08:23.334658Z",
     "iopub.status.busy": "2022-07-22T23:08:23.333977Z",
     "iopub.status.idle": "2022-07-22T23:08:23.624636Z",
     "shell.execute_reply": "2022-07-22T23:08:23.625183Z",
     "shell.execute_reply.started": "2022-07-22T23:07:37.679903Z"
    },
    "papermill": {
     "duration": 0.321258,
     "end_time": "2022-07-22T23:08:23.625365",
     "exception": false,
     "start_time": "2022-07-22T23:08:23.304107",
     "status": "completed"
    },
    "tags": []
   },
   "outputs": [
    {
     "data": {
      "image/png": "[encoded data removed]",
      "text/plain": [
       "<Figure size 1152x576 with 1 Axes>"
      ]
     },
     "metadata": {
      "needs_background": "light"
     },
     "output_type": "display_data"
    }
   ],
   "source": [
    "df = PlayerAppear.copy(deep=True)\n",
    "plt.figure(figsize=(16,8))\n",
    "df = df.groupby([\"Player\"])[\"Club\"].count().sort_values(ascending=False)[:20].plot(kind='bar')"
   ]
  },
  {
   "cell_type": "markdown",
   "metadata": {
    "papermill": {
     "duration": 0.0276,
     "end_time": "2022-07-22T23:08:23.681175",
     "exception": false,
     "start_time": "2022-07-22T23:08:23.653575",
     "status": "completed"
    },
    "tags": []
   },
   "source": [
    "# Analyzing the top goal scorers\n",
    "Lets see which player scored the most goals for a single club by using the PlayerGoalDetails file.  The PlayerGoalTotals is just a summary of this data without the club information."
   ]
  },
  {
   "cell_type": "code",
   "execution_count": 16,
   "metadata": {
    "execution": {
     "iopub.execute_input": "2022-07-22T23:08:23.741760Z",
     "iopub.status.busy": "2022-07-22T23:08:23.741113Z",
     "iopub.status.idle": "2022-07-22T23:08:23.759229Z",
     "shell.execute_reply": "2022-07-22T23:08:23.759804Z",
     "shell.execute_reply.started": "2022-07-22T23:07:38.015410Z"
    },
    "papermill": {
     "duration": 0.04939,
     "end_time": "2022-07-22T23:08:23.759993",
     "exception": false,
     "start_time": "2022-07-22T23:08:23.710603",
     "status": "completed"
    },
    "tags": []
   },
   "outputs": [
    {
     "data": {
      "text/html": [
       "<div>\n",
       "<style scoped>\n",
       "    .dataframe tbody tr th:only-of-type {\n",
       "        vertical-align: middle;\n",
       "    }\n",
       "\n",
       "    .dataframe tbody tr th {\n",
       "        vertical-align: top;\n",
       "    }\n",
       "\n",
       "    .dataframe thead th {\n",
       "        text-align: right;\n",
       "    }\n",
       "</style>\n",
       "<table border=\"1\" class=\"dataframe\">\n",
       "  <thead>\n",
       "    <tr style=\"text-align: right;\">\n",
       "      <th></th>\n",
       "      <th>Player</th>\n",
       "      <th>Club</th>\n",
       "      <th>Goals</th>\n",
       "    </tr>\n",
       "  </thead>\n",
       "  <tbody>\n",
       "    <tr>\n",
       "      <th>0</th>\n",
       "      <td>Ronaldo</td>\n",
       "      <td>Real Madrid CF</td>\n",
       "      <td>105</td>\n",
       "    </tr>\n",
       "    <tr>\n",
       "      <th>1</th>\n",
       "      <td>Ronaldo</td>\n",
       "      <td>Juventus</td>\n",
       "      <td>14</td>\n",
       "    </tr>\n",
       "    <tr>\n",
       "      <th>2</th>\n",
       "      <td>Ronaldo</td>\n",
       "      <td>Manchester United FC</td>\n",
       "      <td>21</td>\n",
       "    </tr>\n",
       "    <tr>\n",
       "      <th>3</th>\n",
       "      <td>Lionel Messi</td>\n",
       "      <td>FC Barcelona</td>\n",
       "      <td>120</td>\n",
       "    </tr>\n",
       "    <tr>\n",
       "      <th>4</th>\n",
       "      <td>Lionel Messi</td>\n",
       "      <td>Paris Saint-Germain</td>\n",
       "      <td>5</td>\n",
       "    </tr>\n",
       "    <tr>\n",
       "      <th>5</th>\n",
       "      <td>Karim Benzema</td>\n",
       "      <td>Olympique Lyonnais</td>\n",
       "      <td>12</td>\n",
       "    </tr>\n",
       "    <tr>\n",
       "      <th>6</th>\n",
       "      <td>Karim Benzema</td>\n",
       "      <td>Real Madrid CF</td>\n",
       "      <td>74</td>\n",
       "    </tr>\n",
       "    <tr>\n",
       "      <th>7</th>\n",
       "      <td>Robert Lewandowski</td>\n",
       "      <td>Borussia Dortmund</td>\n",
       "      <td>17</td>\n",
       "    </tr>\n",
       "    <tr>\n",
       "      <th>8</th>\n",
       "      <td>Robert Lewandowski</td>\n",
       "      <td>FC Bayern München</td>\n",
       "      <td>69</td>\n",
       "    </tr>\n",
       "    <tr>\n",
       "      <th>9</th>\n",
       "      <td>Raúl González</td>\n",
       "      <td>Real Madrid CF</td>\n",
       "      <td>66</td>\n",
       "    </tr>\n",
       "  </tbody>\n",
       "</table>\n",
       "</div>"
      ],
      "text/plain": [
       "               Player                  Club Goals\n",
       "0             Ronaldo        Real Madrid CF   105\n",
       "1             Ronaldo              Juventus    14\n",
       "2             Ronaldo  Manchester United FC    21\n",
       "3        Lionel Messi          FC Barcelona   120\n",
       "4        Lionel Messi   Paris Saint-Germain     5\n",
       "5       Karim Benzema    Olympique Lyonnais    12\n",
       "6       Karim Benzema        Real Madrid CF    74\n",
       "7  Robert Lewandowski     Borussia Dortmund    17\n",
       "8  Robert Lewandowski     FC Bayern München    69\n",
       "9       Raúl González        Real Madrid CF    66"
      ]
     },
     "execution_count": 16,
     "metadata": {},
     "output_type": "execute_result"
    }
   ],
   "source": [
    "PlayerGoals = pd.read_csv(os.path.join(PATH, \"PlayerGoalDetails.csv\"), index_col='Unnamed: 0')\n",
    "PlayerGoals.head(10)"
   ]
  },
  {
   "cell_type": "code",
   "execution_count": 17,
   "metadata": {
    "execution": {
     "iopub.execute_input": "2022-07-22T23:08:23.821012Z",
     "iopub.status.busy": "2022-07-22T23:08:23.820351Z",
     "iopub.status.idle": "2022-07-22T23:08:23.871984Z",
     "shell.execute_reply": "2022-07-22T23:08:23.872520Z",
     "shell.execute_reply.started": "2022-07-22T23:07:38.042558Z"
    },
    "papermill": {
     "duration": 0.083418,
     "end_time": "2022-07-22T23:08:23.872707",
     "exception": false,
     "start_time": "2022-07-22T23:08:23.789289",
     "status": "completed"
    },
    "tags": []
   },
   "outputs": [
    {
     "data": {
      "text/plain": [
       "Player                 Club                   \n",
       "İlkay Gündoğan         Manchester City FC         9\n",
       "Leroy Sané             FC Bayern München          9\n",
       "Diego Costa            Club Atlético de Madrid    9\n",
       "Sonny Anderson         Olympique Lyonnais         9\n",
       "Fernando Morientes     AS Monaco FC               9\n",
       "Bernardo Silva         Manchester City FC         9\n",
       "Ivica Olić             FC Bayern München          9\n",
       "Arturo Vidal           Juventus                   9\n",
       "Zlatan Ibrahimović     AC Milan                   9\n",
       "Peter Crouch           Liverpool FC               9\n",
       "Patrick Kluivert       AFC Ajax                   9\n",
       "Zinédine Zidane        Real Madrid CF             9\n",
       "Michael Ballack        Bayer 04 Leverkusen        9\n",
       "Alexis Sánchez         Arsenal FC                 9\n",
       "Michalis Konstantinou  Panathinaikos FC           9\n",
       "Miroslav Klose         FC Bayern München          9\n",
       "Mario Götze            FC Bayern München          9\n",
       "Zlatko Zahovič         FC Porto                   8\n",
       "Erling Haaland         FC Salzburg                8\n",
       "Ruud van Nistelrooy    PSV Eindhoven              8\n",
       "Fernando Torres        Liverpool FC               8\n",
       "Ángel Di María         Real Madrid CF             8\n",
       "Emmanuel Adebayor      Arsenal FC                 8\n",
       "Sylvain Wiltord        Olympique Lyonnais         8\n",
       "Clarence Seedorf       AC Milan                   8\n",
       "Name: Goals, dtype: object"
      ]
     },
     "execution_count": 17,
     "metadata": {},
     "output_type": "execute_result"
    },
    {
     "data": {
      "text/plain": [
       "<Figure size 1152x576 with 0 Axes>"
      ]
     },
     "metadata": {},
     "output_type": "display_data"
    }
   ],
   "source": [
    "df = PlayerGoals.copy(deep=True)\n",
    "plt.figure(figsize=(16,8))\n",
    "df = df.groupby([\"Player\", \"Club\"])[\"Goals\"].max().sort_values(ascending=False)[:25]\n",
    "df"
   ]
  },
  {
   "cell_type": "markdown",
   "metadata": {
    "papermill": {
     "duration": 0.028863,
     "end_time": "2022-07-22T23:08:23.930754",
     "exception": false,
     "start_time": "2022-07-22T23:08:23.901891",
     "status": "completed"
    },
    "tags": []
   },
   "source": [
    "Once again lets look at which player scored the most goals for different clubs"
   ]
  },
  {
   "cell_type": "code",
   "execution_count": 18,
   "metadata": {
    "execution": {
     "iopub.execute_input": "2022-07-22T23:08:23.992727Z",
     "iopub.status.busy": "2022-07-22T23:08:23.992033Z",
     "iopub.status.idle": "2022-07-22T23:08:24.281231Z",
     "shell.execute_reply": "2022-07-22T23:08:24.280658Z",
     "shell.execute_reply.started": "2022-07-22T23:07:38.121915Z"
    },
    "papermill": {
     "duration": 0.321096,
     "end_time": "2022-07-22T23:08:24.281375",
     "exception": false,
     "start_time": "2022-07-22T23:08:23.960279",
     "status": "completed"
    },
    "tags": []
   },
   "outputs": [
    {
     "data": {
      "image/png": "[encoded data removed]",
      "text/plain": [
       "<Figure size 1152x576 with 1 Axes>"
      ]
     },
     "metadata": {
      "needs_background": "light"
     },
     "output_type": "display_data"
    }
   ],
   "source": [
    "df = PlayerGoals.copy(deep=True)\n",
    "plt.figure(figsize=(16,8))\n",
    "df = df.groupby(\"Player\")[\"Club\"].count().sort_values(ascending=False)[:20].plot(kind='barh')"
   ]
  },
  {
   "cell_type": "code",
   "execution_count": null,
   "metadata": {
    "papermill": {
     "duration": 0.030138,
     "end_time": "2022-07-22T23:08:24.341957",
     "exception": false,
     "start_time": "2022-07-22T23:08:24.311819",
     "status": "completed"
    },
    "tags": []
   },
   "outputs": [],
   "source": []
  },
  {
   "cell_type": "code",
   "execution_count": null,
   "metadata": {
    "papermill": {
     "duration": 0.030516,
     "end_time": "2022-07-22T23:08:24.403267",
     "exception": false,
     "start_time": "2022-07-22T23:08:24.372751",
     "status": "completed"
    },
    "tags": []
   },
   "outputs": [],
   "source": []
  }
 ],
 "metadata": {
  "kernelspec": {
   "display_name": "Python 3",
   "language": "python",
   "name": "python3"
  },
  "language_info": {
   "codemirror_mode": {
    "name": "ipython",
    "version": 3
   },
   "file_extension": ".py",
   "mimetype": "text/x-python",
   "name": "python",
   "nbconvert_exporter": "python",
   "pygments_lexer": "ipython3",
   "version": "3.7.9"
  },
  "papermill": {
   "default_parameters": {},
   "duration": 9.661485,
   "end_time": "2022-07-22T23:08:25.043905",
   "environment_variables": {},
   "exception": null,
   "input_path": "__notebook__.ipynb",
   "output_path": "__notebook__.ipynb",
   "parameters": {},
   "start_time": "2022-07-22T23:08:15.382420",
   "version": "2.2.2"
  }
 },
 "nbformat": 4,
 "nbformat_minor": 4
}
